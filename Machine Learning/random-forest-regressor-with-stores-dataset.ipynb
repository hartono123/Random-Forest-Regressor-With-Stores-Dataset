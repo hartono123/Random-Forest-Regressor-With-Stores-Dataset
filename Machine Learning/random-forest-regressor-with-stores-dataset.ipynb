{
 "cells": [
  {
   "cell_type": "code",
   "execution_count": 1,
   "id": "d5e7f853",
   "metadata": {
    "execution": {
     "iopub.execute_input": "2022-07-07T01:02:52.059990Z",
     "iopub.status.busy": "2022-07-07T01:02:52.059124Z",
     "iopub.status.idle": "2022-07-07T01:02:53.270567Z",
     "shell.execute_reply": "2022-07-07T01:02:53.269537Z"
    },
    "id": "r3WnVjto32IP",
    "papermill": {
     "duration": 1.222483,
     "end_time": "2022-07-07T01:02:53.273547",
     "exception": false,
     "start_time": "2022-07-07T01:02:52.051064",
     "status": "completed"
    },
    "tags": []
   },
   "outputs": [],
   "source": [
    "import pandas as pd\n",
    "import matplotlib.pyplot as plt\n",
    "import seaborn as sns\n",
    "import numpy as np\n",
    "from sklearn.metrics import mean_squared_error\n",
    "from sklearn.metrics import mean_absolute_error\n",
    "\n",
    "%matplotlib inline"
   ]
  },
  {
   "cell_type": "code",
   "execution_count": 2,
   "id": "b6a74e9c",
   "metadata": {
    "execution": {
     "iopub.execute_input": "2022-07-07T01:02:53.286679Z",
     "iopub.status.busy": "2022-07-07T01:02:53.285657Z",
     "iopub.status.idle": "2022-07-07T01:02:53.319839Z",
     "shell.execute_reply": "2022-07-07T01:02:53.318875Z"
    },
    "id": "ZMRmZJrs4HwP",
    "outputId": "8e8c5812-98a5-408c-c5bd-a1d642b46367",
    "papermill": {
     "duration": 0.04356,
     "end_time": "2022-07-07T01:02:53.322830",
     "exception": false,
     "start_time": "2022-07-07T01:02:53.279270",
     "status": "completed"
    },
    "tags": []
   },
   "outputs": [
    {
     "data": {
      "text/html": [
       "<div>\n",
       "<style scoped>\n",
       "    .dataframe tbody tr th:only-of-type {\n",
       "        vertical-align: middle;\n",
       "    }\n",
       "\n",
       "    .dataframe tbody tr th {\n",
       "        vertical-align: top;\n",
       "    }\n",
       "\n",
       "    .dataframe thead th {\n",
       "        text-align: right;\n",
       "    }\n",
       "</style>\n",
       "<table border=\"1\" class=\"dataframe\">\n",
       "  <thead>\n",
       "    <tr style=\"text-align: right;\">\n",
       "      <th></th>\n",
       "      <th>Store_Area</th>\n",
       "      <th>Items_Available</th>\n",
       "      <th>Daily_Customer_Count</th>\n",
       "      <th>Store_Sales</th>\n",
       "    </tr>\n",
       "    <tr>\n",
       "      <th>Store ID</th>\n",
       "      <th></th>\n",
       "      <th></th>\n",
       "      <th></th>\n",
       "      <th></th>\n",
       "    </tr>\n",
       "  </thead>\n",
       "  <tbody>\n",
       "    <tr>\n",
       "      <th>1</th>\n",
       "      <td>1659</td>\n",
       "      <td>1961</td>\n",
       "      <td>530</td>\n",
       "      <td>66490</td>\n",
       "    </tr>\n",
       "    <tr>\n",
       "      <th>2</th>\n",
       "      <td>1461</td>\n",
       "      <td>1752</td>\n",
       "      <td>210</td>\n",
       "      <td>39820</td>\n",
       "    </tr>\n",
       "    <tr>\n",
       "      <th>3</th>\n",
       "      <td>1340</td>\n",
       "      <td>1609</td>\n",
       "      <td>720</td>\n",
       "      <td>54010</td>\n",
       "    </tr>\n",
       "    <tr>\n",
       "      <th>4</th>\n",
       "      <td>1451</td>\n",
       "      <td>1748</td>\n",
       "      <td>620</td>\n",
       "      <td>53730</td>\n",
       "    </tr>\n",
       "    <tr>\n",
       "      <th>5</th>\n",
       "      <td>1770</td>\n",
       "      <td>2111</td>\n",
       "      <td>450</td>\n",
       "      <td>46620</td>\n",
       "    </tr>\n",
       "  </tbody>\n",
       "</table>\n",
       "</div>"
      ],
      "text/plain": [
       "           Store_Area  Items_Available  Daily_Customer_Count  Store_Sales\n",
       "Store ID                                                                 \n",
       "1                1659             1961                   530        66490\n",
       "2                1461             1752                   210        39820\n",
       "3                1340             1609                   720        54010\n",
       "4                1451             1748                   620        53730\n",
       "5                1770             2111                   450        46620"
      ]
     },
     "execution_count": 2,
     "metadata": {},
     "output_type": "execute_result"
    }
   ],
   "source": [
    "df = pd.read_csv('../input/stores-area-and-sales-data/Stores.csv', index_col=0)\n",
    "df.head()"
   ]
  },
  {
   "cell_type": "code",
   "execution_count": 3,
   "id": "478e8b7d",
   "metadata": {
    "execution": {
     "iopub.execute_input": "2022-07-07T01:02:53.336165Z",
     "iopub.status.busy": "2022-07-07T01:02:53.335502Z",
     "iopub.status.idle": "2022-07-07T01:02:53.342435Z",
     "shell.execute_reply": "2022-07-07T01:02:53.341409Z"
    },
    "id": "72qzE4X04U2_",
    "outputId": "7d0f880d-1dd3-4104-fd1d-4b87c0eb6b14",
    "papermill": {
     "duration": 0.016556,
     "end_time": "2022-07-07T01:02:53.345354",
     "exception": false,
     "start_time": "2022-07-07T01:02:53.328798",
     "status": "completed"
    },
    "tags": []
   },
   "outputs": [
    {
     "data": {
      "text/plain": [
       "(896, 4)"
      ]
     },
     "execution_count": 3,
     "metadata": {},
     "output_type": "execute_result"
    }
   ],
   "source": [
    "df.shape"
   ]
  },
  {
   "cell_type": "code",
   "execution_count": 4,
   "id": "96b52a59",
   "metadata": {
    "execution": {
     "iopub.execute_input": "2022-07-07T01:02:53.357836Z",
     "iopub.status.busy": "2022-07-07T01:02:53.357511Z",
     "iopub.status.idle": "2022-07-07T01:02:53.373186Z",
     "shell.execute_reply": "2022-07-07T01:02:53.372151Z"
    },
    "id": "1pRHrMOZ4WBB",
    "outputId": "ccf890e5-94aa-439d-a5ba-37b58190c750",
    "papermill": {
     "duration": 0.025105,
     "end_time": "2022-07-07T01:02:53.376201",
     "exception": false,
     "start_time": "2022-07-07T01:02:53.351096",
     "status": "completed"
    },
    "tags": []
   },
   "outputs": [
    {
     "name": "stdout",
     "output_type": "stream",
     "text": [
      "<class 'pandas.core.frame.DataFrame'>\n",
      "Int64Index: 896 entries, 1 to 896\n",
      "Data columns (total 4 columns):\n",
      " #   Column                Non-Null Count  Dtype\n",
      "---  ------                --------------  -----\n",
      " 0   Store_Area            896 non-null    int64\n",
      " 1   Items_Available       896 non-null    int64\n",
      " 2   Daily_Customer_Count  896 non-null    int64\n",
      " 3   Store_Sales           896 non-null    int64\n",
      "dtypes: int64(4)\n",
      "memory usage: 35.0 KB\n"
     ]
    }
   ],
   "source": [
    "df.info()"
   ]
  },
  {
   "cell_type": "code",
   "execution_count": 5,
   "id": "dcf09a04",
   "metadata": {
    "execution": {
     "iopub.execute_input": "2022-07-07T01:02:53.389400Z",
     "iopub.status.busy": "2022-07-07T01:02:53.389081Z",
     "iopub.status.idle": "2022-07-07T01:02:53.415262Z",
     "shell.execute_reply": "2022-07-07T01:02:53.414317Z"
    },
    "id": "XeFbgFlg4bT_",
    "outputId": "c60d009d-5f93-451a-dafd-03a802053c6b",
    "papermill": {
     "duration": 0.035087,
     "end_time": "2022-07-07T01:02:53.417473",
     "exception": false,
     "start_time": "2022-07-07T01:02:53.382386",
     "status": "completed"
    },
    "tags": []
   },
   "outputs": [
    {
     "data": {
      "text/html": [
       "<div>\n",
       "<style scoped>\n",
       "    .dataframe tbody tr th:only-of-type {\n",
       "        vertical-align: middle;\n",
       "    }\n",
       "\n",
       "    .dataframe tbody tr th {\n",
       "        vertical-align: top;\n",
       "    }\n",
       "\n",
       "    .dataframe thead th {\n",
       "        text-align: right;\n",
       "    }\n",
       "</style>\n",
       "<table border=\"1\" class=\"dataframe\">\n",
       "  <thead>\n",
       "    <tr style=\"text-align: right;\">\n",
       "      <th></th>\n",
       "      <th>Store_Area</th>\n",
       "      <th>Items_Available</th>\n",
       "      <th>Daily_Customer_Count</th>\n",
       "      <th>Store_Sales</th>\n",
       "    </tr>\n",
       "  </thead>\n",
       "  <tbody>\n",
       "    <tr>\n",
       "      <th>count</th>\n",
       "      <td>896.000000</td>\n",
       "      <td>896.000000</td>\n",
       "      <td>896.000000</td>\n",
       "      <td>896.000000</td>\n",
       "    </tr>\n",
       "    <tr>\n",
       "      <th>mean</th>\n",
       "      <td>1485.409598</td>\n",
       "      <td>1782.035714</td>\n",
       "      <td>786.350446</td>\n",
       "      <td>59351.305804</td>\n",
       "    </tr>\n",
       "    <tr>\n",
       "      <th>std</th>\n",
       "      <td>250.237011</td>\n",
       "      <td>299.872053</td>\n",
       "      <td>265.389281</td>\n",
       "      <td>17190.741895</td>\n",
       "    </tr>\n",
       "    <tr>\n",
       "      <th>min</th>\n",
       "      <td>775.000000</td>\n",
       "      <td>932.000000</td>\n",
       "      <td>10.000000</td>\n",
       "      <td>14920.000000</td>\n",
       "    </tr>\n",
       "    <tr>\n",
       "      <th>25%</th>\n",
       "      <td>1316.750000</td>\n",
       "      <td>1575.500000</td>\n",
       "      <td>600.000000</td>\n",
       "      <td>46530.000000</td>\n",
       "    </tr>\n",
       "    <tr>\n",
       "      <th>50%</th>\n",
       "      <td>1477.000000</td>\n",
       "      <td>1773.500000</td>\n",
       "      <td>780.000000</td>\n",
       "      <td>58605.000000</td>\n",
       "    </tr>\n",
       "    <tr>\n",
       "      <th>75%</th>\n",
       "      <td>1653.500000</td>\n",
       "      <td>1982.750000</td>\n",
       "      <td>970.000000</td>\n",
       "      <td>71872.500000</td>\n",
       "    </tr>\n",
       "    <tr>\n",
       "      <th>max</th>\n",
       "      <td>2229.000000</td>\n",
       "      <td>2667.000000</td>\n",
       "      <td>1560.000000</td>\n",
       "      <td>116320.000000</td>\n",
       "    </tr>\n",
       "  </tbody>\n",
       "</table>\n",
       "</div>"
      ],
      "text/plain": [
       "        Store_Area  Items_Available  Daily_Customer_Count    Store_Sales\n",
       "count   896.000000       896.000000            896.000000     896.000000\n",
       "mean   1485.409598      1782.035714            786.350446   59351.305804\n",
       "std     250.237011       299.872053            265.389281   17190.741895\n",
       "min     775.000000       932.000000             10.000000   14920.000000\n",
       "25%    1316.750000      1575.500000            600.000000   46530.000000\n",
       "50%    1477.000000      1773.500000            780.000000   58605.000000\n",
       "75%    1653.500000      1982.750000            970.000000   71872.500000\n",
       "max    2229.000000      2667.000000           1560.000000  116320.000000"
      ]
     },
     "execution_count": 5,
     "metadata": {},
     "output_type": "execute_result"
    }
   ],
   "source": [
    "df.describe()"
   ]
  },
  {
   "cell_type": "code",
   "execution_count": 6,
   "id": "c4fd9ead",
   "metadata": {
    "execution": {
     "iopub.execute_input": "2022-07-07T01:02:53.431980Z",
     "iopub.status.busy": "2022-07-07T01:02:53.431280Z",
     "iopub.status.idle": "2022-07-07T01:02:53.439934Z",
     "shell.execute_reply": "2022-07-07T01:02:53.438943Z"
    },
    "id": "vx3sRKc54dXs",
    "outputId": "59ee9b32-6384-4a49-e7bf-c1a3f49054cb",
    "papermill": {
     "duration": 0.01934,
     "end_time": "2022-07-07T01:02:53.443040",
     "exception": false,
     "start_time": "2022-07-07T01:02:53.423700",
     "status": "completed"
    },
    "tags": []
   },
   "outputs": [
    {
     "data": {
      "text/plain": [
       "Store_Area              0\n",
       "Items_Available         0\n",
       "Daily_Customer_Count    0\n",
       "Store_Sales             0\n",
       "dtype: int64"
      ]
     },
     "execution_count": 6,
     "metadata": {},
     "output_type": "execute_result"
    }
   ],
   "source": [
    "df.isna().sum()"
   ]
  },
  {
   "cell_type": "code",
   "execution_count": 7,
   "id": "1613983a",
   "metadata": {
    "execution": {
     "iopub.execute_input": "2022-07-07T01:02:53.458094Z",
     "iopub.status.busy": "2022-07-07T01:02:53.457515Z",
     "iopub.status.idle": "2022-07-07T01:02:53.466012Z",
     "shell.execute_reply": "2022-07-07T01:02:53.465362Z"
    },
    "id": "qncD6BIn4h_N",
    "outputId": "b973d4f5-6eae-4baf-8285-39cc0bcc8572",
    "papermill": {
     "duration": 0.018931,
     "end_time": "2022-07-07T01:02:53.468651",
     "exception": false,
     "start_time": "2022-07-07T01:02:53.449720",
     "status": "completed"
    },
    "tags": []
   },
   "outputs": [
    {
     "name": "stdout",
     "output_type": "stream",
     "text": [
      "<class 'pandas.core.frame.DataFrame'>\n",
      "Int64Index: 896 entries, 1 to 896\n",
      "Data columns (total 4 columns):\n",
      " #   Column                Non-Null Count  Dtype\n",
      "---  ------                --------------  -----\n",
      " 0   Store_Area            896 non-null    int64\n",
      " 1   Items_Available       896 non-null    int64\n",
      " 2   Daily_Customer_Count  896 non-null    int64\n",
      " 3   Store_Sales           896 non-null    int64\n",
      "dtypes: int64(4)\n",
      "memory usage: 35.0 KB\n"
     ]
    }
   ],
   "source": [
    "df.info()"
   ]
  },
  {
   "cell_type": "code",
   "execution_count": 8,
   "id": "43f9b810",
   "metadata": {
    "execution": {
     "iopub.execute_input": "2022-07-07T01:02:53.483895Z",
     "iopub.status.busy": "2022-07-07T01:02:53.483067Z",
     "iopub.status.idle": "2022-07-07T01:02:53.490569Z",
     "shell.execute_reply": "2022-07-07T01:02:53.489598Z"
    },
    "id": "jkc4AFVd40C7",
    "outputId": "4b2f8348-937b-4206-bbd2-50ec62106a5b",
    "papermill": {
     "duration": 0.016736,
     "end_time": "2022-07-07T01:02:53.492776",
     "exception": false,
     "start_time": "2022-07-07T01:02:53.476040",
     "status": "completed"
    },
    "tags": []
   },
   "outputs": [
    {
     "data": {
      "text/plain": [
       "Store_Area              int64\n",
       "Items_Available         int64\n",
       "Daily_Customer_Count    int64\n",
       "Store_Sales             int64\n",
       "dtype: object"
      ]
     },
     "execution_count": 8,
     "metadata": {},
     "output_type": "execute_result"
    }
   ],
   "source": [
    "df.dtypes"
   ]
  },
  {
   "cell_type": "code",
   "execution_count": 9,
   "id": "8fe4ee6f",
   "metadata": {
    "execution": {
     "iopub.execute_input": "2022-07-07T01:02:53.507131Z",
     "iopub.status.busy": "2022-07-07T01:02:53.506585Z",
     "iopub.status.idle": "2022-07-07T01:02:53.768524Z",
     "shell.execute_reply": "2022-07-07T01:02:53.767447Z"
    },
    "id": "_YSvJC436A0j",
    "outputId": "a260e355-f473-49fb-c9f4-a0dcca1b212c",
    "papermill": {
     "duration": 0.271768,
     "end_time": "2022-07-07T01:02:53.770927",
     "exception": false,
     "start_time": "2022-07-07T01:02:53.499159",
     "status": "completed"
    },
    "tags": []
   },
   "outputs": [
    {
     "data": {
      "image/png": "[encoded data removed]",
      "text/plain": [
       "<Figure size 432x288 with 2 Axes>"
      ]
     },
     "metadata": {
      "needs_background": "light"
     },
     "output_type": "display_data"
    }
   ],
   "source": [
    "sns.heatmap(df.corr(), annot = True)\n",
    "plt.show()"
   ]
  },
  {
   "cell_type": "code",
   "execution_count": 10,
   "id": "08fe8d0e",
   "metadata": {
    "execution": {
     "iopub.execute_input": "2022-07-07T01:02:53.786544Z",
     "iopub.status.busy": "2022-07-07T01:02:53.786182Z",
     "iopub.status.idle": "2022-07-07T01:02:54.309700Z",
     "shell.execute_reply": "2022-07-07T01:02:54.308401Z"
    },
    "id": "GaUlauzBJCyJ",
    "outputId": "1f9664d2-77a9-450c-dbaf-c26f8771cbc2",
    "papermill": {
     "duration": 0.534459,
     "end_time": "2022-07-07T01:02:54.312403",
     "exception": false,
     "start_time": "2022-07-07T01:02:53.777944",
     "status": "completed"
    },
    "tags": []
   },
   "outputs": [
    {
     "data": {
      "image/png": "[encoded data removed]",
      "text/plain": [
       "<Figure size 576x720 with 4 Axes>"
      ]
     },
     "metadata": {
      "needs_background": "light"
     },
     "output_type": "display_data"
    }
   ],
   "source": [
    "features = ['Store_Area', 'Items_Available', 'Daily_Customer_Count','Store_Sales']\n",
    "fig, axs = plt.subplots(2, 2, figsize=(8,10))\n",
    "fig.tight_layout(pad=4.0)\n",
    "\n",
    "for f,ax in zip(features,axs.ravel()):\n",
    "    ax=sns.boxplot(ax=ax,data=df,y=df[f])\n",
    "    ax.set_title('Feature:'+ f)"
   ]
  },
  {
   "cell_type": "code",
   "execution_count": 11,
   "id": "d440fc2c",
   "metadata": {
    "execution": {
     "iopub.execute_input": "2022-07-07T01:02:54.331224Z",
     "iopub.status.busy": "2022-07-07T01:02:54.330443Z",
     "iopub.status.idle": "2022-07-07T01:02:54.337980Z",
     "shell.execute_reply": "2022-07-07T01:02:54.336730Z"
    },
    "id": "IW-mOYoIGN_k",
    "papermill": {
     "duration": 0.01936,
     "end_time": "2022-07-07T01:02:54.340404",
     "exception": false,
     "start_time": "2022-07-07T01:02:54.321044",
     "status": "completed"
    },
    "tags": []
   },
   "outputs": [],
   "source": [
    "x = df.iloc[:,0:-1].to_numpy()\n",
    "y = df.iloc[:,-1].to_numpy()"
   ]
  },
  {
   "cell_type": "code",
   "execution_count": 12,
   "id": "e35cedaa",
   "metadata": {
    "execution": {
     "iopub.execute_input": "2022-07-07T01:02:54.357515Z",
     "iopub.status.busy": "2022-07-07T01:02:54.356902Z",
     "iopub.status.idle": "2022-07-07T01:02:54.555851Z",
     "shell.execute_reply": "2022-07-07T01:02:54.554896Z"
    },
    "id": "ghniGc1G7Ju-",
    "papermill": {
     "duration": 0.210365,
     "end_time": "2022-07-07T01:02:54.558515",
     "exception": false,
     "start_time": "2022-07-07T01:02:54.348150",
     "status": "completed"
    },
    "tags": []
   },
   "outputs": [],
   "source": [
    "from sklearn.ensemble import RandomForestRegressor\n",
    "rf_reg = RandomForestRegressor()"
   ]
  },
  {
   "cell_type": "code",
   "execution_count": 13,
   "id": "d24a7741",
   "metadata": {
    "execution": {
     "iopub.execute_input": "2022-07-07T01:02:54.575648Z",
     "iopub.status.busy": "2022-07-07T01:02:54.574873Z",
     "iopub.status.idle": "2022-07-07T01:02:55.029808Z",
     "shell.execute_reply": "2022-07-07T01:02:55.028590Z"
    },
    "id": "sEog1wtaIRdH",
    "outputId": "fee648d1-503e-449f-ea31-26a46addf558",
    "papermill": {
     "duration": 0.465275,
     "end_time": "2022-07-07T01:02:55.031609",
     "exception": false,
     "start_time": "2022-07-07T01:02:54.566334",
     "status": "completed"
    },
    "tags": []
   },
   "outputs": [
    {
     "name": "stdout",
     "output_type": "stream",
     "text": [
      "Regressor:RandomForestRegressor()\n",
      "MSE:47958589.93\n",
      "RMSE:6925.21\n",
      "MAE:5574.36\n",
      "Score:0.8375\n",
      "\n",
      "\n"
     ]
    }
   ],
   "source": [
    "reg_list = [rf_reg]\n",
    "for reg in reg_list:\n",
    "        \n",
    "    reg.fit(x,y)\n",
    "        \n",
    "    y_pred = reg.predict(x)\n",
    "    \n",
    "    mse = mean_squared_error(y_pred,y)\n",
    "    rmse = np.sqrt(mean_squared_error(y_pred,y))\n",
    "    mae = mean_absolute_error(y_pred,y)\n",
    "    score = reg.score(x,y)\n",
    "    \n",
    "    print('Regressor:{}\\nMSE:{:.2f}\\nRMSE:{:.2f}\\nMAE:{:.2f}\\nScore:{:.4f}\\n\\n'.format(str(reg),mse,rmse,mae,score))"
   ]
  }
 ],
 "metadata": {
  "kernelspec": {
   "display_name": "Python 3",
   "language": "python",
   "name": "python3"
  },
  "language_info": {
   "codemirror_mode": {
    "name": "ipython",
    "version": 3
   },
   "file_extension": ".py",
   "mimetype": "text/x-python",
   "name": "python",
   "nbconvert_exporter": "python",
   "pygments_lexer": "ipython3",
   "version": "3.7.12"
  },
  "papermill": {
   "default_parameters": {},
   "duration": 14.048071,
   "end_time": "2022-07-07T01:02:55.756539",
   "environment_variables": {},
   "exception": null,
   "input_path": "__notebook__.ipynb",
   "output_path": "__notebook__.ipynb",
   "parameters": {},
   "start_time": "2022-07-07T01:02:41.708468",
   "version": "2.3.4"
  }
 },
 "nbformat": 4,
 "nbformat_minor": 5
}
